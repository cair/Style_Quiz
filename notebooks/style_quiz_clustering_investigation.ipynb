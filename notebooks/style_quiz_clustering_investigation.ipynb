{
 "cells": [
  {
   "cell_type": "code",
   "execution_count": 1,
   "metadata": {},
   "outputs": [],
   "source": [
    "%load_ext autoreload\n",
    "%autoreload 2\n",
    "%reload_ext autoreload\n",
    "\n",
    "import os\n",
    "os.chdir(r\"C:\\Users\\kaborg15\\Python_projects\\Vibrent_Style_Quiz_Generation\")\n",
    "\n",
    "import pandas as pd\n",
    "from resources.constants import *\n",
    "from src import load_dataframes\n",
    "\n",
    "OUTFIT_EMBEDDINGS_DF_PATH = r\"resources\\data\\outfit_embeddings_df.pkl\"\n",
    "REPRESENTATION_COLUMN = \"outfit_embeddings\"\n",
    "\n",
    "pictures_df = pd.read_csv(PICTURE_TRIPLETS_CSV_PATH, sep=CSV_SEPARATOR)\n",
    "user_triplets_df = pd.read_csv(USER_ACTIVITY_TRIPLETS_CSV_PATH, sep=CSV_SEPARATOR)\n",
    "\n",
    "embeddings_df = pd.read_pickle(OUTFIT_EMBEDDINGS_DF_PATH)"
   ]
  }
 ],
 "metadata": {
  "kernelspec": {
   "display_name": "baseline-env",
   "language": "python",
   "name": "python3"
  },
  "language_info": {
   "codemirror_mode": {
    "name": "ipython",
    "version": 3
   },
   "file_extension": ".py",
   "mimetype": "text/x-python",
   "name": "python",
   "nbconvert_exporter": "python",
   "pygments_lexer": "ipython3",
   "version": "3.10.14"
  }
 },
 "nbformat": 4,
 "nbformat_minor": 2
}
