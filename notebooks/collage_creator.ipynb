{
 "cells": [
  {
   "cell_type": "code",
   "execution_count": 9,
   "metadata": {},
   "outputs": [
    {
     "name": "stdout",
     "output_type": "stream",
     "text": [
      "Grid size: 50x20, Thumbnail size: 20x50\n"
     ]
    }
   ],
   "source": [
    "import os\n",
    "import random\n",
    "from PIL import Image\n",
    "\n",
    "def create_image_collage(folder_path, output_path, num_images=1000, collage_width=1000, collage_height=1000):\n",
    "    image_files = [os.path.join(folder_path, f) for f in os.listdir(folder_path)]\n",
    "    selected_images = random.sample(image_files, min(num_images, len(image_files)))\n",
    "\n",
    "    images = [Image.open(img) for img in selected_images]\n",
    "    \n",
    "    #grid_size = int(len(images)**0.5)\n",
    "    grid_width = len(images) // 20\n",
    "    grid_height = len(images) // grid_width\n",
    "    thumb_width = collage_width // grid_width\n",
    "    thumb_height = collage_height // grid_height\n",
    "    print(f'Grid size: {grid_width}x{grid_height}, Thumbnail size: {thumb_width}x{thumb_height}')\n",
    "    \n",
    "    collage_image = Image.new('RGB', (collage_width, collage_height))    \n",
    "    for index, img in enumerate(images):\n",
    "        img = img.resize((thumb_width, thumb_height), Image.Resampling.LANCZOS)\n",
    "        x = (index % grid_width) * thumb_width\n",
    "        y = (index // grid_width) * thumb_height\n",
    "        collage_image.paste(img, (x, y))\n",
    "    \n",
    "    collage_image.save(output_path)\n",
    "    collage_image.show()\n",
    "\n",
    "folder_path = r'..\\resources\\data\\dataset\\images'\n",
    "output_path = r'..\\reports\\figures/collage.jpg'\n",
    "create_image_collage(folder_path, output_path)\n"
   ]
  },
  {
   "cell_type": "code",
   "execution_count": 12,
   "metadata": {},
   "outputs": [
    {
     "name": "stdout",
     "output_type": "stream",
     "text": [
      "Grid size: 45x15, Thumbnail size: 44x66\n"
     ]
    }
   ],
   "source": [
    "import os\n",
    "import random\n",
    "from PIL import Image\n",
    "\n",
    "def create_image_collage(folder_path, output_path, num_images=1000, collage_width=2000, collage_height=1000):\n",
    "    image_files = [os.path.join(folder_path, f) for f in os.listdir(folder_path)]\n",
    "    selected_images = random.sample(image_files, min(num_images, len(image_files)))\n",
    "\n",
    "    images = [Image.open(img) for img in selected_images]\n",
    "    \n",
    "    aspect_ratio = collage_width / collage_height\n",
    "    num_images_width = int((num_images * aspect_ratio) ** 0.5)\n",
    "    num_images_height = int(num_images ** 0.5 / aspect_ratio)\n",
    "\n",
    "    if num_images_width * num_images_height < num_images:\n",
    "        num_images_width += 1\n",
    "\n",
    "    thumb_width = collage_width // num_images_width\n",
    "    thumb_height = collage_height // num_images_height\n",
    "    print(f'Grid size: {num_images_width}x{num_images_height}, Thumbnail size: {thumb_width}x{thumb_height}')\n",
    "    collage_width = num_images_width * thumb_width\n",
    "    collage_height = num_images_height * thumb_height\n",
    "    \n",
    "    collage_image = Image.new('RGB', (collage_width, collage_height))\n",
    "    for index, img in enumerate(images):\n",
    "        if index >= num_images_width * num_images_height:\n",
    "            break\n",
    "        img = img.resize((thumb_width, thumb_height), Image.Resampling.LANCZOS)\n",
    "        x = (index % num_images_width) * thumb_width\n",
    "        y = (index // num_images_width) * thumb_height\n",
    "        collage_image.paste(img, (x, y))\n",
    "    \n",
    "    collage_image.save(output_path)\n",
    "    collage_image.show()\n",
    "\n",
    "folder_path = r'..\\resources\\data\\dataset\\images'\n",
    "output_path = r'..\\reports\\figures\\collage.jpg'\n",
    "create_image_collage(folder_path, output_path)\n"
   ]
  }
 ],
 "metadata": {
  "kernelspec": {
   "display_name": "baseline-env",
   "language": "python",
   "name": "python3"
  },
  "language_info": {
   "codemirror_mode": {
    "name": "ipython",
    "version": 3
   },
   "file_extension": ".py",
   "mimetype": "text/x-python",
   "name": "python",
   "nbconvert_exporter": "python",
   "pygments_lexer": "ipython3",
   "version": "3.10.13"
  }
 },
 "nbformat": 4,
 "nbformat_minor": 2
}
