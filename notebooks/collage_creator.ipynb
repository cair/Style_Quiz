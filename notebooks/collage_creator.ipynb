{
 "cells": [
  {
   "cell_type": "code",
   "execution_count": 4,
   "metadata": {},
   "outputs": [],
   "source": [
    "import os\n",
    "import random\n",
    "from PIL import Image\n",
    "\n",
    "def create_image_collage(folder_path, output_path, num_images=1000, collage_width=1000, collage_height=1000):\n",
    "    # Get a list of all image files in the folder\n",
    "    image_files = [os.path.join(folder_path, f) for f in os.listdir(folder_path)]\n",
    "    #print(image_files)\n",
    "    # Randomly select a subset of images\n",
    "    selected_images = random.sample(image_files, min(num_images, len(image_files)))\n",
    "\n",
    "    # Open images and resize them to fit in the collage\n",
    "    images = [Image.open(img) for img in selected_images]\n",
    "    \n",
    "    # Calculate the size of each image in the grid\n",
    "    grid_size = int(len(images)**0.5)\n",
    "    thumb_width = collage_width // grid_size\n",
    "    thumb_height = collage_height // grid_size\n",
    "    \n",
    "    # Create a blank collage image\n",
    "    collage_image = Image.new('RGB', (collage_width, collage_height))\n",
    "    \n",
    "    # Paste each image into the collage\n",
    "    for index, img in enumerate(images):\n",
    "        img = img.resize((thumb_width, thumb_height), Image.Resampling.LANCZOS)\n",
    "        x = (index % grid_size) * thumb_width\n",
    "        y = (index // grid_size) * thumb_height\n",
    "        collage_image.paste(img, (x, y))\n",
    "    \n",
    "    # Save the collage image\n",
    "    collage_image.save(output_path)\n",
    "    #collage_image.show()\n",
    "\n",
    "# Example usage\n",
    "folder_path = r'..\\resources\\data\\dataset\\images'\n",
    "output_path = r'..\\reports\\figures/collage.jpg'\n",
    "create_image_collage(folder_path, output_path)\n"
   ]
  }
 ],
 "metadata": {
  "kernelspec": {
   "display_name": "baseline-env",
   "language": "python",
   "name": "python3"
  },
  "language_info": {
   "codemirror_mode": {
    "name": "ipython",
    "version": 3
   },
   "file_extension": ".py",
   "mimetype": "text/x-python",
   "name": "python",
   "nbconvert_exporter": "python",
   "pygments_lexer": "ipython3",
   "version": "3.10.13"
  }
 },
 "nbformat": 4,
 "nbformat_minor": 2
}
