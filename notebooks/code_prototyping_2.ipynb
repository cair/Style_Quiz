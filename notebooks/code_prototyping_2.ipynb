{
 "cells": [
  {
   "cell_type": "code",
   "execution_count": 1,
   "metadata": {},
   "outputs": [],
   "source": [
    "%load_ext autoreload\n",
    "%autoreload 2\n",
    "%reload_ext autoreload\n",
    "\n",
    "import os\n",
    "#os.chdir(\"/home/kaborg15/Vibrent_Dataset_Collection/\")\n",
    "os.chdir(r\"C:\\Users\\kaborg15\\Python_projects\\Vibrent_Dataset_Collection\")\n",
    "\n"
   ]
  },
  {
   "cell_type": "code",
   "execution_count": 3,
   "metadata": {},
   "outputs": [
    {
     "ename": "KeyboardInterrupt",
     "evalue": "",
     "output_type": "error",
     "traceback": [
      "\u001b[1;31m---------------------------------------------------------------------------\u001b[0m",
      "\u001b[1;31mKeyboardInterrupt\u001b[0m                         Traceback (most recent call last)",
      "Cell \u001b[1;32mIn[3], line 2\u001b[0m\n\u001b[0;32m      1\u001b[0m \u001b[38;5;28;01mimport\u001b[39;00m \u001b[38;5;21;01mpandas\u001b[39;00m \u001b[38;5;28;01mas\u001b[39;00m \u001b[38;5;21;01mpd\u001b[39;00m\n\u001b[1;32m----> 2\u001b[0m \u001b[38;5;28;01mfrom\u001b[39;00m \u001b[38;5;21;01msrc\u001b[39;00m \u001b[38;5;28;01mimport\u001b[39;00m retrieve_image_bucket_data\n\u001b[0;32m      3\u001b[0m \u001b[38;5;28;01mfrom\u001b[39;00m \u001b[38;5;21;01mresources\u001b[39;00m\u001b[38;5;21;01m.\u001b[39;00m\u001b[38;5;21;01mconstants\u001b[39;00m \u001b[38;5;28;01mimport\u001b[39;00m \u001b[38;5;241m*\u001b[39m\n\u001b[0;32m      5\u001b[0m picture_triplets_df \u001b[38;5;241m=\u001b[39m pd\u001b[38;5;241m.\u001b[39mread_csv(DATASET_FOLDER \u001b[38;5;241m+\u001b[39m \u001b[38;5;124m\"\u001b[39m\u001b[38;5;124mpicture_triplets.csv\u001b[39m\u001b[38;5;124m\"\u001b[39m, sep\u001b[38;5;241m=\u001b[39m\u001b[38;5;124m\"\u001b[39m\u001b[38;5;124m;\u001b[39m\u001b[38;5;124m\"\u001b[39m)\n",
      "File \u001b[1;32m~\\Python_projects\\Vibrent_Dataset_Collection\\src\\retrieve_image_bucket_data.py:4\u001b[0m\n\u001b[0;32m      1\u001b[0m \u001b[38;5;66;03m# Migrated from FREja\u001b[39;00m\n\u001b[0;32m      3\u001b[0m \u001b[38;5;28;01mfrom\u001b[39;00m \u001b[38;5;21;01mgoogle\u001b[39;00m\u001b[38;5;21;01m.\u001b[39;00m\u001b[38;5;21;01mcloud\u001b[39;00m \u001b[38;5;28;01mimport\u001b[39;00m storage\n\u001b[1;32m----> 4\u001b[0m \u001b[38;5;28;01mimport\u001b[39;00m \u001b[38;5;21;01mtorchvision\u001b[39;00m\u001b[38;5;21;01m.\u001b[39;00m\u001b[38;5;21;01mio\u001b[39;00m \u001b[38;5;28;01mas\u001b[39;00m \u001b[38;5;21;01mio\u001b[39;00m\n\u001b[0;32m      5\u001b[0m \u001b[38;5;28;01mimport\u001b[39;00m \u001b[38;5;21;01mos\u001b[39;00m\n\u001b[0;32m      6\u001b[0m \u001b[38;5;28;01mfrom\u001b[39;00m \u001b[38;5;21;01mPIL\u001b[39;00m \u001b[38;5;28;01mimport\u001b[39;00m Image\n",
      "File \u001b[1;32mc:\\Users\\kaborg15\\AppData\\Local\\anaconda3\\envs\\baseline-env\\lib\\site-packages\\torchvision\\__init__.py:5\u001b[0m\n\u001b[0;32m      2\u001b[0m \u001b[38;5;28;01mimport\u001b[39;00m \u001b[38;5;21;01mwarnings\u001b[39;00m\n\u001b[0;32m      3\u001b[0m \u001b[38;5;28;01mfrom\u001b[39;00m \u001b[38;5;21;01mmodulefinder\u001b[39;00m \u001b[38;5;28;01mimport\u001b[39;00m Module\n\u001b[1;32m----> 5\u001b[0m \u001b[38;5;28;01mimport\u001b[39;00m \u001b[38;5;21;01mtorch\u001b[39;00m\n\u001b[0;32m      6\u001b[0m \u001b[38;5;28;01mfrom\u001b[39;00m \u001b[38;5;21;01mtorchvision\u001b[39;00m \u001b[38;5;28;01mimport\u001b[39;00m _meta_registrations, datasets, io, models, ops, transforms, utils\n\u001b[0;32m      8\u001b[0m \u001b[38;5;28;01mfrom\u001b[39;00m \u001b[38;5;21;01m.\u001b[39;00m\u001b[38;5;21;01mextension\u001b[39;00m \u001b[38;5;28;01mimport\u001b[39;00m _HAS_OPS\n",
      "File \u001b[1;32mc:\\Users\\kaborg15\\AppData\\Local\\anaconda3\\envs\\baseline-env\\lib\\site-packages\\torch\\__init__.py:125\u001b[0m\n\u001b[0;32m    123\u001b[0m is_loaded \u001b[38;5;241m=\u001b[39m \u001b[38;5;28;01mFalse\u001b[39;00m\n\u001b[0;32m    124\u001b[0m \u001b[38;5;28;01mif\u001b[39;00m with_load_library_flags:\n\u001b[1;32m--> 125\u001b[0m     res \u001b[38;5;241m=\u001b[39m \u001b[43mkernel32\u001b[49m\u001b[38;5;241;43m.\u001b[39;49m\u001b[43mLoadLibraryExW\u001b[49m\u001b[43m(\u001b[49m\u001b[43mdll\u001b[49m\u001b[43m,\u001b[49m\u001b[43m \u001b[49m\u001b[38;5;28;43;01mNone\u001b[39;49;00m\u001b[43m,\u001b[49m\u001b[43m \u001b[49m\u001b[38;5;241;43m0x00001100\u001b[39;49m\u001b[43m)\u001b[49m\n\u001b[0;32m    126\u001b[0m     last_error \u001b[38;5;241m=\u001b[39m ctypes\u001b[38;5;241m.\u001b[39mget_last_error()\n\u001b[0;32m    127\u001b[0m     \u001b[38;5;28;01mif\u001b[39;00m res \u001b[38;5;129;01mis\u001b[39;00m \u001b[38;5;28;01mNone\u001b[39;00m \u001b[38;5;129;01mand\u001b[39;00m last_error \u001b[38;5;241m!=\u001b[39m \u001b[38;5;241m126\u001b[39m:\n",
      "\u001b[1;31mKeyboardInterrupt\u001b[0m: "
     ]
    }
   ],
   "source": [
    "import pandas as pd\n",
    "from src import retrieve_image_bucket_data\n",
    "from resources.constants import *\n",
    "\n",
    "picture_triplets_df = pd.read_csv(DATASET_FOLDER + \"picture_triplets.csv\", sep=\";\")\n",
    "\n",
    "dataset_picture_ids = picture_triplets_df[\"picture.id\"].unique()\n",
    "#print(len(dataset_picture_ids), len(pictures_df[\"id\"].unique()))\n",
    "IMAGES_FOLDER = \"resources/data/dataset/images/\"\n",
    "existing_images = os.listdir(IMAGES_FOLDER)\n",
    "dataset_picture_ids = list(set(dataset_picture_ids) - set(existing_images))\n",
    "retrieve_image_bucket_data.download_to_folder(dataset_picture_ids, IMAGES_FOLDER)"
   ]
  },
  {
   "cell_type": "code",
   "execution_count": 11,
   "metadata": {},
   "outputs": [
    {
     "data": {
      "text/html": [
       "<div>\n",
       "<style scoped>\n",
       "    .dataframe tbody tr th:only-of-type {\n",
       "        vertical-align: middle;\n",
       "    }\n",
       "\n",
       "    .dataframe tbody tr th {\n",
       "        vertical-align: top;\n",
       "    }\n",
       "\n",
       "    .dataframe thead th {\n",
       "        text-align: right;\n",
       "    }\n",
       "</style>\n",
       "<table border=\"1\" class=\"dataframe\">\n",
       "  <thead>\n",
       "    <tr style=\"text-align: right;\">\n",
       "      <th></th>\n",
       "      <th>picture.id</th>\n",
       "      <th>outfit.id</th>\n",
       "      <th>displayOrder</th>\n",
       "    </tr>\n",
       "  </thead>\n",
       "  <tbody>\n",
       "    <tr>\n",
       "      <th>0</th>\n",
       "      <td>picture.0000cdba64314d84a49ed1c266589cc0</td>\n",
       "      <td>outfit.794483397da8425a813301eecf9828c6</td>\n",
       "      <td>0</td>\n",
       "    </tr>\n",
       "    <tr>\n",
       "      <th>1</th>\n",
       "      <td>picture.00058abb53434872ae9bb4270ae21f8e</td>\n",
       "      <td>outfit.98f32aaf08bc4ff09c44e6e11e9199bc</td>\n",
       "      <td>2</td>\n",
       "    </tr>\n",
       "    <tr>\n",
       "      <th>2</th>\n",
       "      <td>picture.00063f52c36d43ada95da45f819b30b4</td>\n",
       "      <td>outfit.9fd1c42c3db543c5b6e53b0db1ee8c0f</td>\n",
       "      <td>3</td>\n",
       "    </tr>\n",
       "    <tr>\n",
       "      <th>3</th>\n",
       "      <td>picture.0008443461814f5c988f123718bbd20e</td>\n",
       "      <td>outfit.a7539783b6e94591bdf4e10339afc1d7</td>\n",
       "      <td>3</td>\n",
       "    </tr>\n",
       "    <tr>\n",
       "      <th>4</th>\n",
       "      <td>picture.000a5db3362049aebcc1eb2bf7bde95f</td>\n",
       "      <td>outfit.745fa2bc8156478bac6c0f7d46dadbda</td>\n",
       "      <td>1</td>\n",
       "    </tr>\n",
       "    <tr>\n",
       "      <th>5</th>\n",
       "      <td>picture.000cf715019a4a02aaf0dc479212195a</td>\n",
       "      <td>outfit.f11bdc25d87946f8b831b608bc8fb574</td>\n",
       "      <td>1</td>\n",
       "    </tr>\n",
       "    <tr>\n",
       "      <th>6</th>\n",
       "      <td>picture.000ddec26b7a4aa495e2d7db9e9585e9</td>\n",
       "      <td>outfit.40d4e8f739a74e488769b16f8f87ca83</td>\n",
       "      <td>3</td>\n",
       "    </tr>\n",
       "    <tr>\n",
       "      <th>7</th>\n",
       "      <td>picture.0010c2e161154d6893734981d5455e76</td>\n",
       "      <td>outfit.9387d05b47f906c5</td>\n",
       "      <td>0</td>\n",
       "    </tr>\n",
       "    <tr>\n",
       "      <th>8</th>\n",
       "      <td>picture.0013342f663843d4b7397b4b88b98e6d</td>\n",
       "      <td>outfit.b24fc57f02ac4e4c9061761ca18d9d3c</td>\n",
       "      <td>0</td>\n",
       "    </tr>\n",
       "    <tr>\n",
       "      <th>9</th>\n",
       "      <td>picture.00135ce8b1a04c5daa60cf7bdd99bcd5</td>\n",
       "      <td>outfit.12ae28ab0dc5494c98a1de2f8ce04b79</td>\n",
       "      <td>1</td>\n",
       "    </tr>\n",
       "  </tbody>\n",
       "</table>\n",
       "</div>"
      ],
      "text/plain": [
       "                                 picture.id  \\\n",
       "0  picture.0000cdba64314d84a49ed1c266589cc0   \n",
       "1  picture.00058abb53434872ae9bb4270ae21f8e   \n",
       "2  picture.00063f52c36d43ada95da45f819b30b4   \n",
       "3  picture.0008443461814f5c988f123718bbd20e   \n",
       "4  picture.000a5db3362049aebcc1eb2bf7bde95f   \n",
       "5  picture.000cf715019a4a02aaf0dc479212195a   \n",
       "6  picture.000ddec26b7a4aa495e2d7db9e9585e9   \n",
       "7  picture.0010c2e161154d6893734981d5455e76   \n",
       "8  picture.0013342f663843d4b7397b4b88b98e6d   \n",
       "9  picture.00135ce8b1a04c5daa60cf7bdd99bcd5   \n",
       "\n",
       "                                 outfit.id  displayOrder  \n",
       "0  outfit.794483397da8425a813301eecf9828c6             0  \n",
       "1  outfit.98f32aaf08bc4ff09c44e6e11e9199bc             2  \n",
       "2  outfit.9fd1c42c3db543c5b6e53b0db1ee8c0f             3  \n",
       "3  outfit.a7539783b6e94591bdf4e10339afc1d7             3  \n",
       "4  outfit.745fa2bc8156478bac6c0f7d46dadbda             1  \n",
       "5  outfit.f11bdc25d87946f8b831b608bc8fb574             1  \n",
       "6  outfit.40d4e8f739a74e488769b16f8f87ca83             3  \n",
       "7                  outfit.9387d05b47f906c5             0  \n",
       "8  outfit.b24fc57f02ac4e4c9061761ca18d9d3c             0  \n",
       "9  outfit.12ae28ab0dc5494c98a1de2f8ce04b79             1  "
      ]
     },
     "execution_count": 11,
     "metadata": {},
     "output_type": "execute_result"
    }
   ],
   "source": [
    "from src import create_image_embeddings\n",
    "import pandas as pd\n",
    "from resources.constants import *\n",
    "\n",
    "picture_triplets_df = pd.read_csv(DATASET_FOLDER + \"picture_triplets.csv\", sep=\";\")\n",
    "picture_triplets_df[:10]"
   ]
  },
  {
   "cell_type": "code",
   "execution_count": 14,
   "metadata": {},
   "outputs": [
    {
     "name": "stdout",
     "output_type": "stream",
     "text": [
      "PKL name: EfficientNet_V2_L_final.pkl | Model: EfficientNet | Weights: EfficientNet_V2_L_Weights | IMAGENET1K_V1\n",
      "Generating embeddings from EfficientNet_V2_L_final to EfficientNet_V2_L_final.pkl...\n"
     ]
    },
    {
     "data": {
      "application/vnd.jupyter.widget-view+json": {
       "model_id": "d419fbd55c254acfa12f437742d1e83e",
       "version_major": 2,
       "version_minor": 0
      },
      "text/plain": [
       "  0%|          | 0/1 [00:00<?, ?it/s]"
      ]
     },
     "metadata": {},
     "output_type": "display_data"
    }
   ],
   "source": [
    "embeddings_df = create_image_embeddings.get_df_image_embeddings(picture_triplets_df[:10], DATASET_IMAGE_EMBEDDINGS_FOLDER, config_class=create_image_embeddings.EfficientNet_V2_L_final)"
   ]
  },
  {
   "cell_type": "code",
   "execution_count": 22,
   "metadata": {},
   "outputs": [
    {
     "data": {
      "text/plain": [
       "array([-0.109  , -0.08044, -0.1355 , ...,  0.2273 , -0.063  , -0.10565],\n",
       "      dtype=float16)"
      ]
     },
     "execution_count": 22,
     "metadata": {},
     "output_type": "execute_result"
    }
   ],
   "source": [
    "embeddings_df[\"embeddings\"].values[0].numpy()"
   ]
  }
 ],
 "metadata": {
  "kernelspec": {
   "display_name": "FREja_API",
   "language": "python",
   "name": "python3"
  },
  "language_info": {
   "codemirror_mode": {
    "name": "ipython",
    "version": 3
   },
   "file_extension": ".py",
   "mimetype": "text/x-python",
   "name": "python",
   "nbconvert_exporter": "python",
   "pygments_lexer": "ipython3",
   "version": "3.10.13"
  },
  "orig_nbformat": 4
 },
 "nbformat": 4,
 "nbformat_minor": 2
}
