{
 "cells": [
  {
   "cell_type": "code",
   "execution_count": 1,
   "metadata": {},
   "outputs": [
    {
     "name": "stdout",
     "output_type": "stream",
     "text": [
      "c:\\Users\\kaborg15\\Python_projects\\Vibrent_Dataset_Collection\n"
     ]
    }
   ],
   "source": [
    "import pandas as pd\n",
    "import numpy as np\n",
    "import os\n",
    "os.chdir(os.path.dirname(os.getcwd()))\n",
    "print(os.getcwd())\n",
    "from resources.constants import *\n",
    "\n",
    "\n",
    "\n",
    "pictures_df = pd.read_csv(PICTURE_TRIPLETS_CSV_PATH, sep=CSV_SEPARATOR)\n",
    "outfits_df = pd.read_csv(OUTFITS_CSV_PATH, sep=CSV_SEPARATOR)\n",
    "user_triplets_df = pd.read_csv(USER_ACTIVITY_TRIPLETS_CSV_PATH, sep=CSV_SEPARATOR)"
   ]
  },
  {
   "cell_type": "code",
   "execution_count": 15,
   "metadata": {},
   "outputs": [
    {
     "data": {
      "text/plain": [
       "(15829, 9791)"
      ]
     },
     "execution_count": 15,
     "metadata": {},
     "output_type": "execute_result"
    }
   ],
   "source": [
    "outfits_df[\"id\"].nunique(), outfits_df[\"group\"].nunique()"
   ]
  },
  {
   "cell_type": "code",
   "execution_count": 17,
   "metadata": {},
   "outputs": [
    {
     "data": {
      "text/plain": [
       "2249"
      ]
     },
     "execution_count": 17,
     "metadata": {},
     "output_type": "execute_result"
    }
   ],
   "source": [
    "user_triplets_df[\"customer.id\"].nunique()"
   ]
  },
  {
   "cell_type": "code",
   "execution_count": 18,
   "metadata": {},
   "outputs": [
    {
     "data": {
      "text/html": [
       "<div>\n",
       "<style scoped>\n",
       "    .dataframe tbody tr th:only-of-type {\n",
       "        vertical-align: middle;\n",
       "    }\n",
       "\n",
       "    .dataframe tbody tr th {\n",
       "        vertical-align: top;\n",
       "    }\n",
       "\n",
       "    .dataframe thead th {\n",
       "        text-align: right;\n",
       "    }\n",
       "</style>\n",
       "<table border=\"1\" class=\"dataframe\">\n",
       "  <thead>\n",
       "    <tr style=\"text-align: right;\">\n",
       "      <th></th>\n",
       "      <th>customer.id</th>\n",
       "      <th>outfit.id</th>\n",
       "      <th>meta.validFrom</th>\n",
       "      <th>derived.bookingTime</th>\n",
       "    </tr>\n",
       "  </thead>\n",
       "  <tbody>\n",
       "    <tr>\n",
       "      <th>0</th>\n",
       "      <td>969</td>\n",
       "      <td>outfit.5c081909537b42239e465d2d615c705f</td>\n",
       "      <td>2023-04-27 12:46:35.184</td>\n",
       "      <td>2023-03-19 14:24:09.539</td>\n",
       "    </tr>\n",
       "    <tr>\n",
       "      <th>1</th>\n",
       "      <td>209</td>\n",
       "      <td>outfit.c34969dd8b334064aa90bfb60c8ec308</td>\n",
       "      <td>2023-05-05 09:44:38.200</td>\n",
       "      <td>2023-01-17 13:36:53.371</td>\n",
       "    </tr>\n",
       "    <tr>\n",
       "      <th>2</th>\n",
       "      <td>209</td>\n",
       "      <td>outfit.aef4cc93eebf40ca8820790deb7a8323</td>\n",
       "      <td>2023-05-05 09:44:38.200</td>\n",
       "      <td>2023-01-17 13:36:53.371</td>\n",
       "    </tr>\n",
       "    <tr>\n",
       "      <th>3</th>\n",
       "      <td>2235</td>\n",
       "      <td>outfit.3de5df48a14b4a9aba6d8e41d11e9351</td>\n",
       "      <td>2022-11-22 03:04:56.144</td>\n",
       "      <td>2021-10-04 10:00:17.854</td>\n",
       "    </tr>\n",
       "    <tr>\n",
       "      <th>4</th>\n",
       "      <td>2235</td>\n",
       "      <td>outfit.0eaa358af14e469894062591bd42f38b</td>\n",
       "      <td>2022-11-22 03:04:56.144</td>\n",
       "      <td>2021-10-04 10:00:17.854</td>\n",
       "    </tr>\n",
       "    <tr>\n",
       "      <th>...</th>\n",
       "      <td>...</td>\n",
       "      <td>...</td>\n",
       "      <td>...</td>\n",
       "      <td>...</td>\n",
       "    </tr>\n",
       "    <tr>\n",
       "      <th>64165</th>\n",
       "      <td>1426</td>\n",
       "      <td>outfit.5bedabce07614c608b03fbb369d9abe7</td>\n",
       "      <td>2022-11-22 13:11:49.877</td>\n",
       "      <td>2021-07-10 08:09:49.250</td>\n",
       "    </tr>\n",
       "    <tr>\n",
       "      <th>64166</th>\n",
       "      <td>358</td>\n",
       "      <td>outfit.bb35c791b2bfa191</td>\n",
       "      <td>2021-05-28 11:41:48.526</td>\n",
       "      <td>2021-04-19 06:52:08.332</td>\n",
       "    </tr>\n",
       "    <tr>\n",
       "      <th>64167</th>\n",
       "      <td>358</td>\n",
       "      <td>outfit.ad6f853b5c31b6f5</td>\n",
       "      <td>2021-05-28 11:41:48.526</td>\n",
       "      <td>2021-04-19 06:52:08.332</td>\n",
       "    </tr>\n",
       "    <tr>\n",
       "      <th>64168</th>\n",
       "      <td>1629</td>\n",
       "      <td>outfit.73393583c562454cbf1c00ce3cac0862</td>\n",
       "      <td>2023-11-25 07:48:26.991</td>\n",
       "      <td>2023-11-21 13:27:25.349</td>\n",
       "    </tr>\n",
       "    <tr>\n",
       "      <th>64169</th>\n",
       "      <td>969</td>\n",
       "      <td>outfit.a452840fe7e74c25962d1718f346c4b5</td>\n",
       "      <td>2022-11-02 01:29:52.712</td>\n",
       "      <td>2022-04-10 22:10:00.425</td>\n",
       "    </tr>\n",
       "  </tbody>\n",
       "</table>\n",
       "<p>64170 rows × 4 columns</p>\n",
       "</div>"
      ],
      "text/plain": [
       "       customer.id                                outfit.id  \\\n",
       "0              969  outfit.5c081909537b42239e465d2d615c705f   \n",
       "1              209  outfit.c34969dd8b334064aa90bfb60c8ec308   \n",
       "2              209  outfit.aef4cc93eebf40ca8820790deb7a8323   \n",
       "3             2235  outfit.3de5df48a14b4a9aba6d8e41d11e9351   \n",
       "4             2235  outfit.0eaa358af14e469894062591bd42f38b   \n",
       "...            ...                                      ...   \n",
       "64165         1426  outfit.5bedabce07614c608b03fbb369d9abe7   \n",
       "64166          358                  outfit.bb35c791b2bfa191   \n",
       "64167          358                  outfit.ad6f853b5c31b6f5   \n",
       "64168         1629  outfit.73393583c562454cbf1c00ce3cac0862   \n",
       "64169          969  outfit.a452840fe7e74c25962d1718f346c4b5   \n",
       "\n",
       "                meta.validFrom      derived.bookingTime  \n",
       "0      2023-04-27 12:46:35.184  2023-03-19 14:24:09.539  \n",
       "1      2023-05-05 09:44:38.200  2023-01-17 13:36:53.371  \n",
       "2      2023-05-05 09:44:38.200  2023-01-17 13:36:53.371  \n",
       "3      2022-11-22 03:04:56.144  2021-10-04 10:00:17.854  \n",
       "4      2022-11-22 03:04:56.144  2021-10-04 10:00:17.854  \n",
       "...                        ...                      ...  \n",
       "64165  2022-11-22 13:11:49.877  2021-07-10 08:09:49.250  \n",
       "64166  2021-05-28 11:41:48.526  2021-04-19 06:52:08.332  \n",
       "64167  2021-05-28 11:41:48.526  2021-04-19 06:52:08.332  \n",
       "64168  2023-11-25 07:48:26.991  2023-11-21 13:27:25.349  \n",
       "64169  2022-11-02 01:29:52.712  2022-04-10 22:10:00.425  \n",
       "\n",
       "[64170 rows x 4 columns]"
      ]
     },
     "execution_count": 18,
     "metadata": {},
     "output_type": "execute_result"
    }
   ],
   "source": [
    "user_triplets_df"
   ]
  },
  {
   "cell_type": "code",
   "execution_count": 4,
   "metadata": {},
   "outputs": [
    {
     "data": {
      "text/plain": [
       "50293"
      ]
     },
     "execution_count": 4,
     "metadata": {},
     "output_type": "execute_result"
    }
   ],
   "source": [
    "len(pictures_df[\"picture.id\"].unique())"
   ]
  },
  {
   "cell_type": "code",
   "execution_count": 6,
   "metadata": {},
   "outputs": [
    {
     "data": {
      "text/plain": [
       "35513"
      ]
     },
     "execution_count": 6,
     "metadata": {},
     "output_type": "execute_result"
    }
   ],
   "source": [
    "len(os.listdir(DATASET_IMAGES_FOLDER))"
   ]
  }
 ],
 "metadata": {
  "kernelspec": {
   "display_name": "baseline-env",
   "language": "python",
   "name": "python3"
  },
  "language_info": {
   "codemirror_mode": {
    "name": "ipython",
    "version": 3
   },
   "file_extension": ".py",
   "mimetype": "text/x-python",
   "name": "python",
   "nbconvert_exporter": "python",
   "pygments_lexer": "ipython3",
   "version": "3.10.13"
  }
 },
 "nbformat": 4,
 "nbformat_minor": 2
}
