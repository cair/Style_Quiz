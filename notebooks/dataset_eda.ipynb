{
 "cells": [
  {
   "cell_type": "code",
   "execution_count": 1,
   "metadata": {},
   "outputs": [
    {
     "name": "stdout",
     "output_type": "stream",
     "text": [
      "c:\\Users\\kaborg15\\Python_projects\\Vibrent_Dataset_Collection\n"
     ]
    }
   ],
   "source": [
    "import pandas as pd\n",
    "import numpy as np\n",
    "import os\n",
    "os.chdir(os.path.dirname(os.getcwd()))\n",
    "print(os.getcwd())\n",
    "\n",
    "%load_ext autoreload\n",
    "%autoreload 2\n",
    "%reload_ext autoreload\n",
    "\n",
    "\n",
    "from resources.constants import *\n",
    "\n",
    "pictures_df = pd.read_csv(PICTURE_TRIPLETS_CSV_PATH, sep=CSV_SEPARATOR)\n",
    "outfits_df = pd.read_csv(OUTFITS_CSV_PATH, sep=CSV_SEPARATOR)\n",
    "user_triplets_df = pd.read_csv(USER_ACTIVITY_TRIPLETS_CSV_PATH, sep=CSV_SEPARATOR)\n",
    "spot_rentals_df = pd.read_csv(SPOT_RENTALS_CSV_PATH, sep=CSV_SEPARATOR)\n",
    "third_chance_df = pd.read_csv(THIRD_CHANCE_CSV_PATH, sep=CSV_SEPARATOR)"
   ]
  },
  {
   "cell_type": "code",
   "execution_count": 14,
   "metadata": {},
   "outputs": [
    {
     "name": "stdout",
     "output_type": "stream",
     "text": [
      "Number of files in bucket clothes-rental-dataset: 32504\n"
     ]
    }
   ],
   "source": [
    "from google.cloud import storage\n",
    "\n",
    "\n",
    "bucket_name = 'clothes-rental-dataset'\n",
    "client = storage.Client()\n",
    "bucket = client.bucket(bucket_name)\n",
    "blobs = bucket.list_blobs()\n",
    "\n",
    "file_count = sum(1 for _ in blobs)\n",
    "print(f'Number of files in bucket {bucket_name}: {file_count}')\n"
   ]
  }
 ],
 "metadata": {
  "kernelspec": {
   "display_name": "baseline-env",
   "language": "python",
   "name": "python3"
  },
  "language_info": {
   "codemirror_mode": {
    "name": "ipython",
    "version": 3
   },
   "file_extension": ".py",
   "mimetype": "text/x-python",
   "name": "python",
   "nbconvert_exporter": "python",
   "pygments_lexer": "ipython3",
   "version": "3.10.13"
  }
 },
 "nbformat": 4,
 "nbformat_minor": 2
}
