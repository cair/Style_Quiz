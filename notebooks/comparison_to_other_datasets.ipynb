{
 "cells": [
  {
   "cell_type": "code",
   "execution_count": 16,
   "metadata": {},
   "outputs": [
    {
     "name": "stdout",
     "output_type": "stream",
     "text": [
      "The autoreload extension is already loaded. To reload it, use:\n",
      "  %reload_ext autoreload\n"
     ]
    }
   ],
   "source": [
    "%load_ext autoreload\n",
    "%autoreload 2\n",
    "%reload_ext autoreload\n",
    "\n",
    "import os\n",
    "os.chdir(r\"C:\\Users\\kaborg15\\Python_projects\\Vibrent_Dataset_Collection\")\n",
    "\n",
    "import pandas as pd\n",
    "from resources.constants import *\n",
    "\n",
    "def density_of_transactions(num_transactions, num_customers, num_articles):\n",
    "    return num_transactions / (num_customers * num_articles)\n",
    "\n",
    "HNM_DATASET_PATH = r\"resources\\other_datasets\\HnM_dataset\\transactions_train.csv\"\n",
    "NETFLIX_PRIZE_COMPETITION_PATH = r\"resources\\other_datasets\\Netflix_prize_competition\""
   ]
  },
  {
   "cell_type": "code",
   "execution_count": 69,
   "metadata": {},
   "outputs": [],
   "source": [
    "hnm_df = pd.read_csv(HNM_DATASET_PATH)"
   ]
  },
  {
   "cell_type": "code",
   "execution_count": 70,
   "metadata": {},
   "outputs": [],
   "source": [
    "hnm_df = hnm_df.drop_duplicates(subset=[\"article_id\", \"customer_id\"])"
   ]
  },
  {
   "cell_type": "code",
   "execution_count": 71,
   "metadata": {},
   "outputs": [
    {
     "name": "stdout",
     "output_type": "stream",
     "text": [
      "104547 1362281 27306439\n"
     ]
    },
    {
     "data": {
      "text/plain": [
       "0.00019172855246088317"
      ]
     },
     "execution_count": 71,
     "metadata": {},
     "output_type": "execute_result"
    }
   ],
   "source": [
    "num_articles = hnm_df[\"article_id\"].nunique()\n",
    "num_customers = hnm_df[\"customer_id\"].nunique()\n",
    "num_transactions = hnm_df.shape[0]\n",
    "print(num_articles, num_customers, num_transactions)\n",
    "\n",
    "hnm_density = density_of_transactions(num_transactions, num_customers, num_articles)\n",
    "hnm_density"
   ]
  },
  {
   "cell_type": "code",
   "execution_count": 2,
   "metadata": {},
   "outputs": [
    {
     "data": {
      "application/vnd.jupyter.widget-view+json": {
       "model_id": "106b20ba6364431c94a5ad1ac8a02779",
       "version_major": 2,
       "version_minor": 0
      },
      "text/plain": [
       "  0%|          | 0/3 [00:00<?, ?it/s]"
      ]
     },
     "metadata": {},
     "output_type": "display_data"
    }
   ],
   "source": [
    "from tqdm.notebook import tqdm\n",
    "\n",
    "#Netflix prize competition\n",
    "\n",
    "# data_paths = [os.path.join(NETFLIX_PRIZE_COMPETITION_PATH, file) for file in os.listdir(NETFLIX_PRIZE_COMPETITION_PATH)]\n",
    "# netflix_df = pd.read_csv(data_paths[0], header=None, names=[\"customer_id\", \"rating\", \"date\"])\n",
    "# for path in tqdm(data_paths[1:]):\n",
    "#     netflix_df = pd.concat([netflix_df, pd.read_csv(path, header=None, names=[\"customer_id\", \"rating\", \"date\"])])\n",
    "# tqdm.pandas()\n",
    "# current_movie_id = -1\n",
    "\n",
    "# def parse_dataset_movies(customer_id, rating, data):\n",
    "#     global current_movie_id\n",
    "\n",
    "#     if customer_id.endswith(\":\"):\n",
    "#         current_movie_id = int(customer_id[:-1])\n",
    "#         return None\n",
    "#     else:\n",
    "#         return current_movie_id\n",
    "\n",
    "# netflix_df[\"movie_id\"] = netflix_df.progress_apply(lambda row: parse_dataset_movies(row[\"customer_id\"], row[\"rating\"], row[\"date\"]), axis=1)\n",
    "# netflix_df.to_pickle(os.path.join(NETFLIX_PRIZE_COMPETITION_PATH, \"netflix_df.gz\"), compression=\"gzip\")"
   ]
  },
  {
   "cell_type": "code",
   "execution_count": 11,
   "metadata": {},
   "outputs": [],
   "source": [
    "netflix_df = pd.read_pickle(os.path.join(NETFLIX_PRIZE_COMPETITION_PATH, \"netflix_df.gz\"), compression=\"gzip\")\n",
    "netflix_df = netflix_df.dropna()"
   ]
  },
  {
   "cell_type": "code",
   "execution_count": 14,
   "metadata": {},
   "outputs": [
    {
     "data": {
      "text/plain": [
       "customer_id\n",
       "305344     17653\n",
       "387418     17436\n",
       "2439493    16565\n",
       "1664010    15813\n",
       "2118461    14831\n",
       "           ...  \n",
       "1839823        1\n",
       "2400165        1\n",
       "2404631        1\n",
       "454275         1\n",
       "1808649        1\n",
       "Name: count, Length: 480189, dtype: int64"
      ]
     },
     "execution_count": 14,
     "metadata": {},
     "output_type": "execute_result"
    }
   ],
   "source": [
    "netflix_value_counts = netflix_df[\"customer_id\"].value_counts()\n",
    "netflix_value_counts"
   ]
  },
  {
   "cell_type": "code",
   "execution_count": 15,
   "metadata": {},
   "outputs": [
    {
     "data": {
      "text/plain": [
       "count    480189.000000\n",
       "mean        209.251997\n",
       "std         302.339155\n",
       "min           1.000000\n",
       "25%          39.000000\n",
       "50%          96.000000\n",
       "75%         259.000000\n",
       "max       17653.000000\n",
       "Name: count, dtype: float64"
      ]
     },
     "execution_count": 15,
     "metadata": {},
     "output_type": "execute_result"
    }
   ],
   "source": [
    "netflix_value_counts.describe()"
   ]
  },
  {
   "cell_type": "code",
   "execution_count": 10,
   "metadata": {},
   "outputs": [
    {
     "data": {
      "text/plain": [
       "(17770, 480189, 100480507)"
      ]
     },
     "execution_count": 10,
     "metadata": {},
     "output_type": "execute_result"
    }
   ],
   "source": [
    "num_movies = netflix_df[\"movie_id\"].nunique()\n",
    "num_customers = netflix_df[\"customer_id\"].nunique()\n",
    "num_ratings = netflix_df.shape[0]\n",
    "num_movies, num_customers, num_ratings"
   ]
  },
  {
   "cell_type": "code",
   "execution_count": 15,
   "metadata": {},
   "outputs": [
    {
     "name": "stdout",
     "output_type": "stream",
     "text": [
      "Density of transactions: 1.18E-2, Number of movies: 17770, Number of customers: 480189, Number of ratings: 100480507\n"
     ]
    }
   ],
   "source": [
    "from decimal import Decimal\n",
    "netflix_density = density_of_transactions(num_ratings, num_customers, num_movies)\n",
    "print(f\"Density of transactions: {Decimal(netflix_density):.2E}, Number of movies: {Decimal(num_movies)}, Number of customers: {Decimal(num_customers)}, Number of ratings: {Decimal(num_ratings)}\")"
   ]
  },
  {
   "cell_type": "code",
   "execution_count": 29,
   "metadata": {},
   "outputs": [
    {
     "data": {
      "text/plain": [
       "0.01177557662406687"
      ]
     },
     "execution_count": 29,
     "metadata": {},
     "output_type": "execute_result"
    }
   ],
   "source": [
    "netflix_density"
   ]
  },
  {
   "cell_type": "code",
   "execution_count": 52,
   "metadata": {},
   "outputs": [],
   "source": [
    "\n",
    "triplets_df = pd.read_csv(USER_ACTIVITY_TRIPLETS_CSV_PATH, sep=CSV_SEPARATOR)\n",
    "outfits_df = pd.read_csv(OUTFITS_CSV_PATH, sep=CSV_SEPARATOR)"
   ]
  },
  {
   "cell_type": "code",
   "execution_count": 45,
   "metadata": {},
   "outputs": [],
   "source": [
    "triplets_df = triplets_df.drop_duplicates(subset=[\"customer.id\", \"outfit.id\"]).copy()"
   ]
  },
  {
   "cell_type": "code",
   "execution_count": 66,
   "metadata": {},
   "outputs": [
    {
     "data": {
      "text/plain": [
       "(2249, 10911, 56903)"
      ]
     },
     "execution_count": 66,
     "metadata": {},
     "output_type": "execute_result"
    }
   ],
   "source": [
    "num_users = triplets_df[\"customer.id\"].nunique()\n",
    "num_outfits = triplets_df[\"outfit.id\"].nunique()\n",
    "num_orders = triplets_df.shape[0]\n",
    "num_users, num_outfits, num_orders"
   ]
  },
  {
   "cell_type": "code",
   "execution_count": 67,
   "metadata": {},
   "outputs": [
    {
     "name": "stdout",
     "output_type": "stream",
     "text": [
      "Density of transactions: 2.32E-3, Number of users: 2249, Number of outfits: 10911, Number of orders: 56903\n"
     ]
    }
   ],
   "source": [
    "vibrent_density = density_of_transactions(num_orders, num_users, num_outfits)\n",
    "print(f\"Density of transactions: {Decimal(vibrent_density):.2E}, Number of users: {Decimal(num_users)}, Number of outfits: {Decimal(num_outfits)}, Number of orders: {Decimal(num_orders)}\")"
   ]
  },
  {
   "cell_type": "code",
   "execution_count": 55,
   "metadata": {},
   "outputs": [],
   "source": [
    "outfit_group_dict = outfits_df[[\"id\", \"group\"]].set_index(\"id\").to_dict()[\"group\"]"
   ]
  },
  {
   "cell_type": "code",
   "execution_count": 56,
   "metadata": {},
   "outputs": [],
   "source": [
    "triplets_df[\"outfit_group\"] = triplets_df[\"outfit.id\"].map(outfit_group_dict)"
   ]
  },
  {
   "cell_type": "code",
   "execution_count": 62,
   "metadata": {},
   "outputs": [],
   "source": [
    "triplets_df = triplets_df.drop_duplicates(subset=[\"customer.id\", \"outfit_group\"]).copy()"
   ]
  },
  {
   "cell_type": "code",
   "execution_count": 63,
   "metadata": {},
   "outputs": [
    {
     "data": {
      "text/plain": [
       "(2249, 6821, 56903)"
      ]
     },
     "execution_count": 63,
     "metadata": {},
     "output_type": "execute_result"
    }
   ],
   "source": [
    "num_users = triplets_df[\"customer.id\"].nunique()\n",
    "num_outfits = triplets_df[\"outfit_group\"].nunique()\n",
    "num_orders = triplets_df.shape[0]\n",
    "num_users, num_outfits, num_orders"
   ]
  },
  {
   "cell_type": "code",
   "execution_count": 64,
   "metadata": {},
   "outputs": [
    {
     "name": "stdout",
     "output_type": "stream",
     "text": [
      "Density of transactions: 3.71E-3, Number of users: 2249, Number of outfits: 6821, Number of orders: 56903\n"
     ]
    }
   ],
   "source": [
    "vibrent_density = density_of_transactions(num_orders, num_users, num_outfits)\n",
    "print(f\"Density of transactions: {Decimal(vibrent_density):.2E}, Number of users: {Decimal(num_users)}, Number of outfits: {Decimal(num_outfits)}, Number of orders: {Decimal(num_orders)}\")"
   ]
  },
  {
   "cell_type": "code",
   "execution_count": 65,
   "metadata": {},
   "outputs": [
    {
     "data": {
      "text/plain": [
       "0.0037093486759724906"
      ]
     },
     "execution_count": 65,
     "metadata": {},
     "output_type": "execute_result"
    }
   ],
   "source": [
    "vibrent_density"
   ]
  },
  {
   "cell_type": "code",
   "execution_count": 68,
   "metadata": {},
   "outputs": [
    {
     "data": {
      "text/plain": [
       "0.002318895364202031"
      ]
     },
     "execution_count": 68,
     "metadata": {},
     "output_type": "execute_result"
    }
   ],
   "source": [
    "vibrent_density"
   ]
  },
  {
   "cell_type": "code",
   "execution_count": 93,
   "metadata": {},
   "outputs": [],
   "source": [
    "DENSITIES = {\n",
    "    \"HnM\": 0.00019172855246088317,\n",
    "    \"Netflix\": 0.01177557662406687,\n",
    "    \"Vibrent Groups\": 0.0037093486759724906,\n",
    "    \"Vibrent Individual\": 0.002318895364202031,\n",
    "    \"Amazon Fashion\": 6.3e-06\n",
    "}\n",
    "\n",
    "densities_df = pd.DataFrame.from_dict(DENSITIES, orient=\"index\", columns=[\"density\"])\n",
    "densities_df.index.name = \"dataset\"\n",
    "densities_df = densities_df.reset_index()\n",
    "#densities_df[\"sparsity\"] = 1 - densities_df[\"density\"]\n",
    "densities_df.plot(kind=\"bar\", x=\"dataset\", y=\"density\", title=\"Density of datasets\", color=\"skyblue\", legend=False)"
   ]
  },
  {
   "cell_type": "code",
   "execution_count": 22,
   "metadata": {},
   "outputs": [
    {
     "data": {
      "image/png": "[encoded data removed]",
      "text/plain": [
       "<Figure size 640x480 with 1 Axes>"
      ]
     },
     "metadata": {},
     "output_type": "display_data"
    }
   ],
   "source": [
    "import matplotlib.pyplot as plt\n",
    "import pandas as pd\n",
    "\n",
    "DENSITIES = {\n",
    "    \"H&M Fashion\": 0.00019172855246088317,\n",
    "    \"Netflix Prize\": 0.01177557662406687,\n",
    "    \"Vibrent Groups\": 0.0037093486759724906,\n",
    "    \"Vibrent Individual\": 0.002318895364202031,\n",
    "    \"Goodreads\": 1.6260964205629808e-05,\n",
    "    \"Amazon Fashion\": 6.3e-06,\n",
    "    \"Book Rental\": 3.4083453369004934e-05\n",
    "}\n",
    "\n",
    "densities_df = pd.DataFrame.from_dict(DENSITIES, orient=\"index\", columns=[\"density\"])\n",
    "densities_df.sort_values(by=\"density\", ascending=False, inplace=True)\n",
    "densities_df.index.name = \"dataset\"\n",
    "densities_df = densities_df.reset_index()\n",
    "\n",
    "ax = densities_df.plot(kind=\"bar\", x=\"dataset\", y=\"density\", title=\"Density of datasets\", color=\"skyblue\", legend=False)\n",
    "#ax.set_ylim(0, max(DENSITIES.values()) + 0.0015)\n",
    "ax.set_ylabel(\"Density\")\n",
    "ax.set_xlabel(\"\")\n",
    "ax.set_yscale(\"log\")\n",
    "ax.set_ylim(1e-6, 1e-1)\n",
    "ax.set_xticklabels(densities_df[\"dataset\"], rotation=45)\n",
    "\n",
    "# Annotate the value of each bar\n",
    "for i in ax.patches:\n",
    "    ax.annotate(format(i.get_height(), '.7f'), \n",
    "                (i.get_x() + i.get_width() / 2., i.get_height()), \n",
    "                ha = 'center', va = 'center', \n",
    "                xytext = (0, 10), \n",
    "                textcoords = 'offset points')\n",
    "\n",
    "plt.tight_layout()\n",
    "plt.show()\n"
   ]
  },
  {
   "cell_type": "code",
   "execution_count": 85,
   "metadata": {},
   "outputs": [],
   "source": [
    "AMAZON_FASHION_DATASET = r\"resources\\other_datasets\\Amazon_fashion\\AMAZON_FASHION.json\"\n",
    "\n",
    "amazon_fashion_df = pd.read_json(AMAZON_FASHION_DATASET, lines=True)"
   ]
  },
  {
   "cell_type": "code",
   "execution_count": 87,
   "metadata": {},
   "outputs": [
    {
     "name": "stdout",
     "output_type": "stream",
     "text": [
      "186189 749233 883636\n"
     ]
    },
    {
     "data": {
      "text/plain": [
       "6.334356237850697e-06"
      ]
     },
     "execution_count": 87,
     "metadata": {},
     "output_type": "execute_result"
    }
   ],
   "source": [
    "num_articles = amazon_fashion_df[\"asin\"].nunique()\n",
    "num_customers = amazon_fashion_df[\"reviewerID\"].nunique()\n",
    "num_reviews = amazon_fashion_df.shape[0]\n",
    "print(num_articles, num_customers, num_reviews)\n",
    "amazon_fashion_density = density_of_transactions(num_reviews, num_customers, num_articles)\n",
    "amazon_fashion_density"
   ]
  },
  {
   "cell_type": "code",
   "execution_count": 90,
   "metadata": {},
   "outputs": [
    {
     "data": {
      "text/plain": [
       "6.3e-06"
      ]
     },
     "execution_count": 90,
     "metadata": {},
     "output_type": "execute_result"
    }
   ],
   "source": [
    "round(amazon_fashion_density, 7)"
   ]
  },
  {
   "cell_type": "code",
   "execution_count": 92,
   "metadata": {},
   "outputs": [
    {
     "data": {
      "text/html": [
       "<div>\n",
       "<style scoped>\n",
       "    .dataframe tbody tr th:only-of-type {\n",
       "        vertical-align: middle;\n",
       "    }\n",
       "\n",
       "    .dataframe tbody tr th {\n",
       "        vertical-align: top;\n",
       "    }\n",
       "\n",
       "    .dataframe thead th {\n",
       "        text-align: right;\n",
       "    }\n",
       "</style>\n",
       "<table border=\"1\" class=\"dataframe\">\n",
       "  <thead>\n",
       "    <tr style=\"text-align: right;\">\n",
       "      <th></th>\n",
       "      <th>overall</th>\n",
       "      <th>verified</th>\n",
       "      <th>reviewTime</th>\n",
       "      <th>reviewerID</th>\n",
       "      <th>asin</th>\n",
       "      <th>reviewerName</th>\n",
       "      <th>reviewText</th>\n",
       "      <th>summary</th>\n",
       "      <th>unixReviewTime</th>\n",
       "      <th>vote</th>\n",
       "      <th>style</th>\n",
       "      <th>image</th>\n",
       "    </tr>\n",
       "  </thead>\n",
       "  <tbody>\n",
       "    <tr>\n",
       "      <th>0</th>\n",
       "      <td>5</td>\n",
       "      <td>True</td>\n",
       "      <td>10 20, 2014</td>\n",
       "      <td>A1D4G1SNUZWQOT</td>\n",
       "      <td>7106116521</td>\n",
       "      <td>Tracy</td>\n",
       "      <td>Exactly what I needed.</td>\n",
       "      <td>perfect replacements!!</td>\n",
       "      <td>1413763200</td>\n",
       "      <td>NaN</td>\n",
       "      <td>NaN</td>\n",
       "      <td>NaN</td>\n",
       "    </tr>\n",
       "    <tr>\n",
       "      <th>1</th>\n",
       "      <td>2</td>\n",
       "      <td>True</td>\n",
       "      <td>09 28, 2014</td>\n",
       "      <td>A3DDWDH9PX2YX2</td>\n",
       "      <td>7106116521</td>\n",
       "      <td>Sonja Lau</td>\n",
       "      <td>I agree with the other review, the opening is ...</td>\n",
       "      <td>I agree with the other review, the opening is ...</td>\n",
       "      <td>1411862400</td>\n",
       "      <td>3.0</td>\n",
       "      <td>NaN</td>\n",
       "      <td>NaN</td>\n",
       "    </tr>\n",
       "    <tr>\n",
       "      <th>2</th>\n",
       "      <td>4</td>\n",
       "      <td>False</td>\n",
       "      <td>08 25, 2014</td>\n",
       "      <td>A2MWC41EW7XL15</td>\n",
       "      <td>7106116521</td>\n",
       "      <td>Kathleen</td>\n",
       "      <td>Love these... I am going to order another pack...</td>\n",
       "      <td>My New 'Friends' !!</td>\n",
       "      <td>1408924800</td>\n",
       "      <td>NaN</td>\n",
       "      <td>NaN</td>\n",
       "      <td>NaN</td>\n",
       "    </tr>\n",
       "    <tr>\n",
       "      <th>3</th>\n",
       "      <td>2</td>\n",
       "      <td>True</td>\n",
       "      <td>08 24, 2014</td>\n",
       "      <td>A2UH2QQ275NV45</td>\n",
       "      <td>7106116521</td>\n",
       "      <td>Jodi Stoner</td>\n",
       "      <td>too tiny an opening</td>\n",
       "      <td>Two Stars</td>\n",
       "      <td>1408838400</td>\n",
       "      <td>NaN</td>\n",
       "      <td>NaN</td>\n",
       "      <td>NaN</td>\n",
       "    </tr>\n",
       "    <tr>\n",
       "      <th>4</th>\n",
       "      <td>3</td>\n",
       "      <td>False</td>\n",
       "      <td>07 27, 2014</td>\n",
       "      <td>A89F3LQADZBS5</td>\n",
       "      <td>7106116521</td>\n",
       "      <td>Alexander D.</td>\n",
       "      <td>Okay</td>\n",
       "      <td>Three Stars</td>\n",
       "      <td>1406419200</td>\n",
       "      <td>NaN</td>\n",
       "      <td>NaN</td>\n",
       "      <td>NaN</td>\n",
       "    </tr>\n",
       "    <tr>\n",
       "      <th>...</th>\n",
       "      <td>...</td>\n",
       "      <td>...</td>\n",
       "      <td>...</td>\n",
       "      <td>...</td>\n",
       "      <td>...</td>\n",
       "      <td>...</td>\n",
       "      <td>...</td>\n",
       "      <td>...</td>\n",
       "      <td>...</td>\n",
       "      <td>...</td>\n",
       "      <td>...</td>\n",
       "      <td>...</td>\n",
       "    </tr>\n",
       "    <tr>\n",
       "      <th>883631</th>\n",
       "      <td>5</td>\n",
       "      <td>True</td>\n",
       "      <td>02 21, 2017</td>\n",
       "      <td>A1ZSB2Q144UTEY</td>\n",
       "      <td>B01HJHTH5U</td>\n",
       "      <td>Amazon Customer</td>\n",
       "      <td>I absolutely love this dress!!  It's sexy and ...</td>\n",
       "      <td>I absolutely love this dress</td>\n",
       "      <td>1487635200</td>\n",
       "      <td>NaN</td>\n",
       "      <td>NaN</td>\n",
       "      <td>NaN</td>\n",
       "    </tr>\n",
       "    <tr>\n",
       "      <th>883632</th>\n",
       "      <td>5</td>\n",
       "      <td>True</td>\n",
       "      <td>11 25, 2016</td>\n",
       "      <td>A2CCDV0J5VB6F2</td>\n",
       "      <td>B01HJHTH5U</td>\n",
       "      <td>Amazon Customer</td>\n",
       "      <td>I'm 5'6 175lbs. I'm on the tall side. I wear a...</td>\n",
       "      <td>I wear a large and ordered a large and it stil...</td>\n",
       "      <td>1480032000</td>\n",
       "      <td>2.0</td>\n",
       "      <td>NaN</td>\n",
       "      <td>NaN</td>\n",
       "    </tr>\n",
       "    <tr>\n",
       "      <th>883633</th>\n",
       "      <td>3</td>\n",
       "      <td>True</td>\n",
       "      <td>11 10, 2016</td>\n",
       "      <td>A3O90PACS7B61K</td>\n",
       "      <td>B01HJHTH5U</td>\n",
       "      <td>Fabfifty</td>\n",
       "      <td>Too big in the chest area!</td>\n",
       "      <td>Three Stars</td>\n",
       "      <td>1478736000</td>\n",
       "      <td>NaN</td>\n",
       "      <td>NaN</td>\n",
       "      <td>NaN</td>\n",
       "    </tr>\n",
       "    <tr>\n",
       "      <th>883634</th>\n",
       "      <td>3</td>\n",
       "      <td>True</td>\n",
       "      <td>11 10, 2016</td>\n",
       "      <td>A2HO94I89U3LNH</td>\n",
       "      <td>B01HJHF97K</td>\n",
       "      <td>Mgomez</td>\n",
       "      <td>Too clear in the back, needs lining</td>\n",
       "      <td>Three Stars</td>\n",
       "      <td>1478736000</td>\n",
       "      <td>NaN</td>\n",
       "      <td>NaN</td>\n",
       "      <td>NaN</td>\n",
       "    </tr>\n",
       "    <tr>\n",
       "      <th>883635</th>\n",
       "      <td>5</td>\n",
       "      <td>True</td>\n",
       "      <td>08 9, 2016</td>\n",
       "      <td>A2RSX9E79DUHRX</td>\n",
       "      <td>B01HJG5NMW</td>\n",
       "      <td>Natasha Mascarenhas</td>\n",
       "      <td>Ordered and was slightly small. Worked with th...</td>\n",
       "      <td>The quality is excellent and it is so cute</td>\n",
       "      <td>1470700800</td>\n",
       "      <td>NaN</td>\n",
       "      <td>NaN</td>\n",
       "      <td>NaN</td>\n",
       "    </tr>\n",
       "  </tbody>\n",
       "</table>\n",
       "<p>883636 rows × 12 columns</p>\n",
       "</div>"
      ],
      "text/plain": [
       "        overall  verified   reviewTime      reviewerID        asin  \\\n",
       "0             5      True  10 20, 2014  A1D4G1SNUZWQOT  7106116521   \n",
       "1             2      True  09 28, 2014  A3DDWDH9PX2YX2  7106116521   \n",
       "2             4     False  08 25, 2014  A2MWC41EW7XL15  7106116521   \n",
       "3             2      True  08 24, 2014  A2UH2QQ275NV45  7106116521   \n",
       "4             3     False  07 27, 2014   A89F3LQADZBS5  7106116521   \n",
       "...         ...       ...          ...             ...         ...   \n",
       "883631        5      True  02 21, 2017  A1ZSB2Q144UTEY  B01HJHTH5U   \n",
       "883632        5      True  11 25, 2016  A2CCDV0J5VB6F2  B01HJHTH5U   \n",
       "883633        3      True  11 10, 2016  A3O90PACS7B61K  B01HJHTH5U   \n",
       "883634        3      True  11 10, 2016  A2HO94I89U3LNH  B01HJHF97K   \n",
       "883635        5      True   08 9, 2016  A2RSX9E79DUHRX  B01HJG5NMW   \n",
       "\n",
       "               reviewerName  \\\n",
       "0                     Tracy   \n",
       "1                 Sonja Lau   \n",
       "2                  Kathleen   \n",
       "3               Jodi Stoner   \n",
       "4              Alexander D.   \n",
       "...                     ...   \n",
       "883631      Amazon Customer   \n",
       "883632      Amazon Customer   \n",
       "883633             Fabfifty   \n",
       "883634               Mgomez   \n",
       "883635  Natasha Mascarenhas   \n",
       "\n",
       "                                               reviewText  \\\n",
       "0                                  Exactly what I needed.   \n",
       "1       I agree with the other review, the opening is ...   \n",
       "2       Love these... I am going to order another pack...   \n",
       "3                                     too tiny an opening   \n",
       "4                                                    Okay   \n",
       "...                                                   ...   \n",
       "883631  I absolutely love this dress!!  It's sexy and ...   \n",
       "883632  I'm 5'6 175lbs. I'm on the tall side. I wear a...   \n",
       "883633                         Too big in the chest area!   \n",
       "883634                Too clear in the back, needs lining   \n",
       "883635  Ordered and was slightly small. Worked with th...   \n",
       "\n",
       "                                                  summary  unixReviewTime  \\\n",
       "0                                  perfect replacements!!      1413763200   \n",
       "1       I agree with the other review, the opening is ...      1411862400   \n",
       "2                                     My New 'Friends' !!      1408924800   \n",
       "3                                               Two Stars      1408838400   \n",
       "4                                             Three Stars      1406419200   \n",
       "...                                                   ...             ...   \n",
       "883631                       I absolutely love this dress      1487635200   \n",
       "883632  I wear a large and ordered a large and it stil...      1480032000   \n",
       "883633                                        Three Stars      1478736000   \n",
       "883634                                        Three Stars      1478736000   \n",
       "883635         The quality is excellent and it is so cute      1470700800   \n",
       "\n",
       "        vote style image  \n",
       "0        NaN   NaN   NaN  \n",
       "1        3.0   NaN   NaN  \n",
       "2        NaN   NaN   NaN  \n",
       "3        NaN   NaN   NaN  \n",
       "4        NaN   NaN   NaN  \n",
       "...      ...   ...   ...  \n",
       "883631   NaN   NaN   NaN  \n",
       "883632   2.0   NaN   NaN  \n",
       "883633   NaN   NaN   NaN  \n",
       "883634   NaN   NaN   NaN  \n",
       "883635   NaN   NaN   NaN  \n",
       "\n",
       "[883636 rows x 12 columns]"
      ]
     },
     "execution_count": 92,
     "metadata": {},
     "output_type": "execute_result"
    }
   ],
   "source": [
    "amazon_fashion_df"
   ]
  },
  {
   "cell_type": "code",
   "execution_count": 3,
   "metadata": {},
   "outputs": [],
   "source": [
    "GOODREADS_DATASET = r\"resources\\other_datasets\\Goodreads\\goodreads_reviews_dedup.json\"\n",
    "\n",
    "goodreads_df = pd.read_json(GOODREADS_DATASET, lines=True)"
   ]
  },
  {
   "cell_type": "code",
   "execution_count": 5,
   "metadata": {},
   "outputs": [
    {
     "name": "stdout",
     "output_type": "stream",
     "text": [
      "465323 2080190 15739967\n"
     ]
    },
    {
     "data": {
      "text/plain": [
       "1.6260964205629808e-05"
      ]
     },
     "execution_count": 5,
     "metadata": {},
     "output_type": "execute_result"
    }
   ],
   "source": [
    "num_users = goodreads_df[\"user_id\"].nunique()\n",
    "num_books = goodreads_df[\"book_id\"].nunique()\n",
    "num_reviews = goodreads_df.shape[0]\n",
    "print(num_users, num_books, num_reviews)\n",
    "goodreads_density = density_of_transactions(num_reviews, num_users, num_books)\n",
    "goodreads_density"
   ]
  },
  {
   "cell_type": "code",
   "execution_count": 7,
   "metadata": {},
   "outputs": [
    {
     "data": {
      "text/plain": [
       "'0.0000163'"
      ]
     },
     "execution_count": 7,
     "metadata": {},
     "output_type": "execute_result"
    }
   ],
   "source": [
    "format(goodreads_density, \".7f\")"
   ]
  },
  {
   "cell_type": "code",
   "execution_count": 19,
   "metadata": {},
   "outputs": [],
   "source": [
    "BOOK_RENTAL_PATH = r\"resources\\other_datasets\\book_rental_dataset\\BX-Book-Ratings.csv\"\n",
    "\n",
    "book_rental_df = pd.read_csv(BOOK_RENTAL_PATH, sep=\",\", encoding=\"latin1\")"
   ]
  },
  {
   "cell_type": "code",
   "execution_count": 21,
   "metadata": {},
   "outputs": [
    {
     "name": "stdout",
     "output_type": "stream",
     "text": [
      "95513 322102 1048575\n",
      "3.4083453369004934e-05\n"
     ]
    }
   ],
   "source": [
    "num_users = book_rental_df[\"user_id\"].nunique()\n",
    "num_books = book_rental_df[\"isbn\"].nunique()\n",
    "num_reviews = book_rental_df.shape[0]\n",
    "\n",
    "book_rental_density = density_of_transactions(num_reviews, num_users, num_books)\n",
    "print(num_users, num_books, num_reviews)\n",
    "print(book_rental_density)"
   ]
  },
  {
   "cell_type": "code",
   "execution_count": 23,
   "metadata": {},
   "outputs": [
    {
     "name": "stdout",
     "output_type": "stream",
     "text": [
      "95513 322102 1048306\n",
      "3.40747096463754e-05\n"
     ]
    }
   ],
   "source": [
    "book_rental_df = book_rental_df.drop_duplicates(subset=[\"user_id\", \"isbn\"])\n",
    "\n",
    "num_users = book_rental_df[\"user_id\"].nunique()\n",
    "num_books = book_rental_df[\"isbn\"].nunique()\n",
    "num_reviews = book_rental_df.shape[0]\n",
    "\n",
    "book_rental_density = density_of_transactions(num_reviews, num_users, num_books)\n",
    "print(num_users, num_books, num_reviews)\n",
    "print(book_rental_density)"
   ]
  }
 ],
 "metadata": {
  "kernelspec": {
   "display_name": "baseline-env",
   "language": "python",
   "name": "python3"
  },
  "language_info": {
   "codemirror_mode": {
    "name": "ipython",
    "version": 3
   },
   "file_extension": ".py",
   "mimetype": "text/x-python",
   "name": "python",
   "nbconvert_exporter": "python",
   "pygments_lexer": "ipython3",
   "version": "3.10.13"
  }
 },
 "nbformat": 4,
 "nbformat_minor": 2
}
